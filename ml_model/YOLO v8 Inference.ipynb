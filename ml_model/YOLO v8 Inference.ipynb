{
 "cells": [
  {
   "cell_type": "code",
   "execution_count": 1,
   "id": "ccbf9745",
   "metadata": {},
   "outputs": [],
   "source": [
    "import cv2"
   ]
  },
  {
   "cell_type": "code",
   "execution_count": 6,
   "id": "b1b966a1",
   "metadata": {
    "scrolled": true
   },
   "outputs": [],
   "source": [
    "from ultralytics import YOLO\n",
    "\n",
    "model = YOLO('/data/jshong0907/work_place/capstone/runs/detect/train7/weights/best.pt')"
   ]
  },
  {
   "cell_type": "code",
   "execution_count": 7,
   "id": "ad3a2848",
   "metadata": {
    "scrolled": true
   },
   "outputs": [
    {
     "name": "stderr",
     "output_type": "stream",
     "text": [
      "\n",
      "image 1/13 /data/jshong0907/work_place/data/01.jpeg: 480x640 (no detections), 97.7ms\n",
      "image 2/13 /data/jshong0907/work_place/data/02.jpeg: 480x640 1 smoke, 15.8ms\n",
      "image 3/13 /data/jshong0907/work_place/data/03.jpg: 512x640 (no detections), 104.0ms\n",
      "image 4/13 /data/jshong0907/work_place/data/476_jpg.rf.5acda6ea23091dacc2dacf415879ea6c.jpg: 640x640 2 smokes, 17.6ms\n",
      "image 5/13 /data/jshong0907/work_place/data/499_jpg.rf.7fdeba655bc57ecfd21f89cfbbbcea03.jpg: 640x640 1 smoke, 15.7ms\n",
      "image 6/13 /data/jshong0907/work_place/data/504_jpg.rf.eb5f309ada2e163141834ea03e29b757.jpg: 640x640 1 smoke, 16.1ms\n",
      "image 7/13 /data/jshong0907/work_place/data/505_jpg.rf.8ab8affa259dc66a620b93b3823bdb26.jpg: 640x640 1 smoke, 15.6ms\n",
      "image 8/13 /data/jshong0907/work_place/data/511_jpg.rf.5a3e08a23eb3d687a32630430965dfe3.jpg: 640x640 1 smoke, 15.4ms\n",
      "image 9/13 /data/jshong0907/work_place/data/image129.jpg: 384x640 (no detections), 103.2ms\n",
      "image 10/13 /data/jshong0907/work_place/data/image141.jpg: 384x640 2 smokes, 17.4ms\n",
      "image 11/13 /data/jshong0907/work_place/data/image153.jpg: 384x640 (no detections), 16.8ms\n",
      "image 12/13 /data/jshong0907/work_place/data/image2.jpg: 384x640 2 smokes, 17.0ms\n",
      "image 13/13 /data/jshong0907/work_place/data/smoking.jpg: 384x640 2 smokes, 15.6ms\n",
      "Speed: 0.8ms preprocess, 36.0ms inference, 1.8ms postprocess per image at shape (1, 3, 640, 640)\n",
      "Results saved to \u001b[1mruns/detect/predict7\u001b[0m\n"
     ]
    },
    {
     "name": "stdout",
     "output_type": "stream",
     "text": [
      "CPU times: user 3.38 s, sys: 337 ms, total: 3.72 s\n",
      "Wall time: 3.78 s\n"
     ]
    }
   ],
   "source": [
    "%%time\n",
    "\n",
    "result = model.predict('/data/jshong0907/work_place/data', save=True)"
   ]
  },
  {
   "cell_type": "code",
   "execution_count": null,
   "id": "fc4ff3c9",
   "metadata": {},
   "outputs": [],
   "source": []
  }
 ],
 "metadata": {
  "kernelspec": {
   "display_name": "Python 3 (ipykernel)",
   "language": "python",
   "name": "python3"
  },
  "language_info": {
   "codemirror_mode": {
    "name": "ipython",
    "version": 3
   },
   "file_extension": ".py",
   "mimetype": "text/x-python",
   "name": "python",
   "nbconvert_exporter": "python",
   "pygments_lexer": "ipython3",
   "version": "3.10.9"
  }
 },
 "nbformat": 4,
 "nbformat_minor": 5
}
